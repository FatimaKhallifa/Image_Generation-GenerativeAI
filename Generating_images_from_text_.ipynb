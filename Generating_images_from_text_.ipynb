{
  "nbformat": 4,
  "nbformat_minor": 0,
  "metadata": {
    "colab": {
      "provenance": [],
      "gpuType": "T4"
    },
    "kernelspec": {
      "name": "python3",
      "display_name": "Python 3"
    },
    "language_info": {
      "name": "python"
    },
    "accelerator": "GPU"
  },
  "cells": [
    {
      "cell_type": "markdown",
      "source": [
        "### Generative AI Image Generation with Stable Diffusion\n",
        "### This project demonstrates how to use Stable Diffusion (v2.1) to generate and explore AI-created images from text prompts.\n",
        "\n",
        "---\n",
        "\n",
        "\n"
      ],
      "metadata": {
        "id": "j6IspxFs-5zW"
      }
    },
    {
      "cell_type": "code",
      "source": [
        "import torch\n",
        "\n",
        "# Check if CUDA (GPU) is available\n",
        "torch.cuda.is_available()\n",
        "\n"
      ],
      "metadata": {
        "id": "Eb9hJi6B_AuI"
      },
      "execution_count": null,
      "outputs": []
    },
    {
      "cell_type": "code",
      "source": [
        "!pip install diffusers transformers accelerate scipy safetensors\n",
        "!pip install --upgrade diffusers\n"
      ],
      "metadata": {
        "id": "F3b6-YSS_7WP"
      },
      "execution_count": null,
      "outputs": []
    },
    {
      "cell_type": "code",
      "source": [
        "from diffusers import StableDiffusionPipeline\n",
        "import torch\n",
        "from PIL import Image\n",
        "import os\n",
        "\n",
        "pipe = StableDiffusionPipeline.from_pretrained(\"stabilityai/stable-diffusion-2-1\", torch_dtype=torch.float16)\n",
        "pipe = pipe.to(\"cuda\")"
      ],
      "metadata": {
        "id": "txhDOslNBF7_"
      },
      "execution_count": null,
      "outputs": []
    },
    {
      "cell_type": "markdown",
      "source": [
        "## Prompt exploration\n",
        "\n",
        "a. Generate 3 images with original prompts"
      ],
      "metadata": {
        "id": "mtCW25WUGIPx"
      }
    },
    {
      "cell_type": "code",
      "source": [
        "from diffusers import StableDiffusionPipeline, DPMSolverMultistepScheduler\n",
        "import torch\n",
        "import os\n",
        "\n",
        "# BONUS: Create output folder if it doesn't exist\n",
        "os.makedirs(\"outputs\", exist_ok=True)\n",
        "\n",
        "# BONUS: Load Stable Diffusion 2.1 with a custom scheduler (DPMSolver)\n",
        "model_id = \"stabilityai/stable-diffusion-2-1\"\n",
        "pipe = StableDiffusionPipeline.from_pretrained(model_id, torch_dtype=torch.float16)\n",
        "pipe.scheduler = DPMSolverMultistepScheduler.from_config(pipe.scheduler.config)\n",
        "pipe = pipe.to(\"cuda\")\n",
        "\n",
        "# Your prompts\n",
        "prompts = [\n",
        "    \"A rainy forset with so many very tall trees  with a river in the middle and mud around it.\",\n",
        "    \"a filed with a beautiful sky and yellow small flowers at sunset time.\",\n",
        "    \"An Old fishing and traveling ship in the middle of the ocean during sunset painting in a frame .\"\n",
        "]\n",
        "\n",
        "for i, prompt in enumerate(prompts, start=1):\n",
        "    image = pipe(prompt, num_inference_steps=50, guidance_scale=7.5).images[0]\n",
        "\n",
        "    # Save image\n",
        "    filename = f\"outputs/prompt{i}.png\"\n",
        "    image.save(filename)\n",
        "    print(f\"Saved image: {filename}\")\n",
        "\n",
        "    # BONUS: Save prompt text\n",
        "    prompt_filename = f\"outputs/prompt{i}.txt\"\n",
        "    with open(prompt_filename, \"w\") as f:\n",
        "        f.write(prompt)\n",
        "    print(f\"Saved prompt text: {prompt_filename}\")\n",
        "\n"
      ],
      "metadata": {
        "id": "OC6j8jH2BZ67"
      },
      "execution_count": null,
      "outputs": []
    },
    {
      "cell_type": "code",
      "source": [
        "import matplotlib.pyplot as plt\n",
        "import matplotlib.image as mpimg\n",
        "import os\n",
        "\n",
        "folder_path = 'outputs'\n",
        "\n",
        "image_names = ['prompt1.png', 'prompt2.png', 'prompt3.png']\n",
        "\n",
        "fig, axes = plt.subplots(1, 3, figsize=(15, 5))\n",
        "\n",
        "for i, image_name in enumerate(image_names):\n",
        "    img_path = os.path.join(folder_path, image_name)\n",
        "    img = mpimg.imread(img_path)\n",
        "    axes[i].imshow(img)\n",
        "    axes[i].axis('off')\n",
        "    axes[i].set_title(image_name)\n",
        "\n",
        "plt.tight_layout()\n",
        "plt.show()"
      ],
      "metadata": {
        "id": "VOEIJUaYBzoM"
      },
      "execution_count": null,
      "outputs": []
    },
    {
      "cell_type": "markdown",
      "source": [
        "b. Re-run the demonstration cell (astronaut on a horse)\n"
      ],
      "metadata": {
        "id": "6rCkBW7BEXkv"
      }
    },
    {
      "cell_type": "code",
      "source": [
        "from diffusers import StableDiffusionPipeline, DPMSolverMultistepScheduler\n",
        "import torch\n",
        "\n",
        "# BONUS: Load Stable Diffusion 2.1 with a custom scheduler (DPMSolver)\n",
        "model_id = \"stabilityai/stable-diffusion-2-1\"\n",
        "pipe = StableDiffusionPipeline.from_pretrained(model_id, torch_dtype=torch.float16)\n",
        "pipe.scheduler = DPMSolverMultistepScheduler.from_config(pipe.scheduler.config)\n",
        "pipe = pipe.to(\"cuda\")\n",
        "\n",
        "# Your prompt\n",
        "prompt = \"An astronaut riding a horse in a photorealistic style\"\n",
        "\n",
        "# Generate image\n",
        "image = pipe(prompt, num_inference_steps=50, guidance_scale=7.5).images[0]\n",
        "\n",
        "# Save the image\n",
        "image.save(\"astronaut_on_horse.png\")\n",
        "print(\"Saved: astronaut_on_horse.png\")\n",
        "# Display the image\n",
        "display(image)"
      ],
      "metadata": {
        "id": "qbeiFxi-Down"
      },
      "execution_count": null,
      "outputs": []
    },
    {
      "cell_type": "markdown",
      "source": [
        "# 3 - Parameter Sweep\n",
        "a. Pick one favorite prompt"
      ],
      "metadata": {
        "id": "JsbOIGo0Eg1G"
      }
    },
    {
      "cell_type": "code",
      "source": [
        "prompt = \"A rainy forset with so many very tall trees  with a river in the middle and mud around it.\"\n"
      ],
      "metadata": {
        "id": "ApudLbQfEm3y"
      },
      "execution_count": null,
      "outputs": []
    },
    {
      "cell_type": "markdown",
      "source": [
        "b. Generate four versions with the following combinations:"
      ],
      "metadata": {
        "id": "RRh2kgzcEpfe"
      }
    },
    {
      "cell_type": "code",
      "source": [
        "import torch\n",
        "from diffusers import StableDiffusionPipeline\n",
        "\n",
        "# Load the Stable Diffusion 2.1 model\n",
        "pipe = StableDiffusionPipeline.from_pretrained(\"stabilityai/stable-diffusion-2-1\", torch_dtype=torch.float16)\n",
        "pipe.to(\"cuda\")  # Assuming you're using a GPU, otherwise use 'cpu'\n",
        "\n",
        "# Set seed for reproducibility\n",
        "seed = 1024\n",
        "generator = torch.manual_seed(seed)\n",
        "\n",
        "# Define param combinations\n",
        "param_combinations = [\n",
        "    {\"guidance_scale\": 7.5, \"num_inference_steps\": 25, \"filename\": \"sweep_1.png\"},\n",
        "    {\"guidance_scale\": 7.5, \"num_inference_steps\": 75, \"filename\": \"sweep_2.png\"},\n",
        "    {\"guidance_scale\": 5.0, \"num_inference_steps\": 50, \"filename\": \"sweep_3.png\"},\n",
        "    {\"guidance_scale\": 10.0, \"num_inference_steps\": 50, \"filename\": \"sweep_4.png\"},\n",
        "]\n",
        "\n",
        "# Generate and save images\n",
        "for params in param_combinations:\n",
        "    image = pipe(prompt,\n",
        "                 guidance_scale=params[\"guidance_scale\"],\n",
        "                 num_inference_steps=params[\"num_inference_steps\"],\n",
        "                 generator=generator).images[0]\n",
        "\n",
        "    image.save(params[\"filename\"])\n",
        "    print(f'Saved: {params[\"filename\"]} (guidance_scale={params[\"guidance_scale\"]}, '\n",
        "          f'inference_steps={params[\"num_inference_steps\"]}, seed={seed})')\n",
        "\n"
      ],
      "metadata": {
        "id": "ATY6fwDWEuga"
      },
      "execution_count": null,
      "outputs": []
    },
    {
      "cell_type": "code",
      "source": [
        "image_names = ['sweep_1.png', 'sweep_2.png', 'sweep_3.png','sweep_4.png']\n",
        "\n",
        "fig, axes = plt.subplots(1, 4, figsize=(15, 5))\n",
        "\n",
        "for i, image_name in enumerate(image_names):\n",
        "    img = mpimg.imread(image_name)\n",
        "    axes[i].imshow(img)\n",
        "    axes[i].axis('off')\n",
        "    axes[i].set_title(image_name)\n",
        "\n",
        "plt.tight_layout()\n",
        "plt.show()"
      ],
      "metadata": {
        "id": "zSAqrWqFEzWl"
      },
      "execution_count": null,
      "outputs": []
    },
    {
      "cell_type": "code",
      "source": [],
      "metadata": {
        "id": "rKWWF-aQE6MP"
      },
      "execution_count": null,
      "outputs": []
    }
  ]
}